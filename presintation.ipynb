{
 "cells": [
  {
   "cell_type": "markdown",
   "metadata": {},
   "source": [
    "# Eigenvalues, Eigenvectors, Principal Components, and Singular Values Computation\n",
    "\n",
    "- **Course:** CS660/71425 Mathematical Foundations of Analytics\n",
    "- **Instructor:** Prof. Sarbanes\n",
    "- **Group-1:** Will Torres, Mike Griffin, Watson Blair, Syed Abdul Mubashir\n",
    "- **Semester:** Fall 2024\n",
    "- **Project #:** 2\n",
    "- **Due Date:** 04-Nov-2024"
   ]
  },
  {
   "cell_type": "markdown",
   "metadata": {},
   "source": [
    "## Project Description\n",
    "The primary objectives of this project are to:\n",
    "- Develop custom Python functions to compute Eigenvalues and Eigenvectors of a matrix.\n",
    "- Implement a Principal Components Analysis (PCA) from scratch, following the standard steps involved in PCA computation.\n",
    "- Create a function for Singular Value Decomposition (SVD), including the derivation of U, Σ, and V matrices.\n",
    "- Compare the runtime performance of our custom implementations against Python’s built-in libraries, specifically NumPy and Scikit-learn."
   ]
  },
  {
   "cell_type": "code",
   "execution_count": null,
   "metadata": {},
   "outputs": [],
   "source": [
    "import numpy as np\n",
    "import pandas as pd\n",
    "from sklearn.decomposition import PCA\n",
    "import time"
   ]
  },
  {
   "cell_type": "markdown",
   "metadata": {},
   "source": [
    "## Task 1: Eigenvalues and Eigenvectors of a Matrix\n",
    "### 1.1 Custom Implementation\n",
    "### 1.2 NumPy Implementation\n",
    "### 1.3 Results Comparison"
   ]
  },
  {
   "cell_type": "markdown",
   "metadata": {},
   "source": [
    "## Task 2: Principal Components of a Matrix\n"
   ]
  },
  {
   "cell_type": "markdown",
   "metadata": {},
   "source": [
    "### 2.1 Custom Implementation"
   ]
  },
  {
   "cell_type": "markdown",
   "metadata": {},
   "source": [
    "### 2.2 NumPy/PCA Implementation (Use sklearn to perform PCA)\n"
   ]
  },
  {
   "cell_type": "markdown",
   "metadata": {},
   "source": [
    "### 2.3 Results Comparison"
   ]
  },
  {
   "cell_type": "markdown",
   "metadata": {},
   "source": [
    "## Task 3: Singular Values of a Matrix\n",
    "### 3.1 Custom Implementation\n",
    "### 3.2 NumPy Implementation\n",
    "### 3.3 Results Comparison\n"
   ]
  },
  {
   "cell_type": "markdown",
   "metadata": {},
   "source": [
    "## Conclusion\n",
    "- Summarize findings from the project"
   ]
  }
 ],
 "metadata": {
  "kernelspec": {
   "display_name": "base",
   "language": "python",
   "name": "python3"
  },
  "language_info": {
   "codemirror_mode": {
    "name": "ipython",
    "version": 3
   },
   "file_extension": ".py",
   "mimetype": "text/x-python",
   "name": "python",
   "nbconvert_exporter": "python",
   "pygments_lexer": "ipython3",
   "version": "3.9.13"
  }
 },
 "nbformat": 4,
 "nbformat_minor": 2
}
