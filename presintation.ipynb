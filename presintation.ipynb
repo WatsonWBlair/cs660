{
 "cells": [
  {
   "cell_type": "markdown",
   "metadata": {},
   "source": [
    "# Eigenvalues, Eigenvectors, Principal Components, and Singular Values Computation\n",
    "\n",
    "- **Course:** CS660/71425 Mathematical Foundations of Analytics\n",
    "- **Instructor:** Prof. Sarbanes\n",
    "- **Group-1:** Will Torres, Mike Griffin, Watson Blair, Syed Abdul Mubashir, Abdul Munaf Mohammed\n",
    "- **Semester:** Fall 2024\n",
    "- **Project #:** 2\n",
    "- **Due Date:** 04-Nov-2024"
   ]
  },
  {
   "cell_type": "markdown",
   "metadata": {},
   "source": [
    "## Project Description\n",
    "The primary objectives of this project are to:\n",
    "- Develop custom Python functions to compute Eigenvalues and Eigenvectors of a matrix.\n",
    "- Implement a Principal Components Analysis (PCA) from scratch, following the standard steps involved in PCA computation.\n",
    "- Create a function for Singular Value Decomposition (SVD), including the derivation of U, Σ, and V matrices.\n",
    "- Compare the runtime performance of our custom implementations against Python’s built-in libraries, specifically NumPy and Scikit-learn."
   ]
  },
  {
   "cell_type": "code",
   "execution_count": null,
   "metadata": {},
   "outputs": [],
   "source": [
    "import warnings\n",
    "warnings.filterwarnings(\"ignore\")\n",
    "import numpy as np\n",
    "import pandas as pd\n",
    "from helpers.Process_Matrix.process_matrix import BenchmarkUtility"
   ]
  },
  {
   "cell_type": "markdown",
   "metadata": {},
   "source": [
    "## Analysis"
   ]
  },
  {
   "cell_type": "code",
   "execution_count": null,
   "metadata": {},
   "outputs": [],
   "source": [
    "# Define sample sizes for analysis\n",
    "matrix_sizes = [10, 50, 100, 250, 500, 1000]\n",
    "data_list = [np.random.rand(n, n) for n in matrix_sizes]\n",
    "labels = [f'{n}x{n}' for n in matrix_sizes]\n",
    "\n",
    "# Iterate through each data matrix in data_list\n",
    "processor = BenchmarkUtility(labels=labels)\n",
    "processor.batch_benchmark(data_list)"
   ]
  },
  {
   "cell_type": "code",
   "execution_count": null,
   "metadata": {},
   "outputs": [],
   "source": [
    "print(\"\\nAll Execution Times:\")\n",
    "for key, times in processor.execution_times.items():\n",
    "    print(f\"{key}: {times}\")"
   ]
  },
  {
   "cell_type": "markdown",
   "metadata": {},
   "source": [
    "## Conclusion\n",
    "- Summarize findings from the project"
   ]
  },
  {
   "cell_type": "code",
   "execution_count": null,
   "metadata": {},
   "outputs": [],
   "source": [
    "processor.plot_execution_times() "
   ]
  }
 ],
 "metadata": {
  "kernelspec": {
   "display_name": "base",
   "language": "python",
   "name": "python3"
  },
  "language_info": {
   "codemirror_mode": {
    "name": "ipython",
    "version": 3
   },
   "file_extension": ".py",
   "mimetype": "text/x-python",
   "name": "python",
   "nbconvert_exporter": "python",
   "pygments_lexer": "ipython3",
   "version": "3.9.13"
  }
 },
 "nbformat": 4,
 "nbformat_minor": 2
}
