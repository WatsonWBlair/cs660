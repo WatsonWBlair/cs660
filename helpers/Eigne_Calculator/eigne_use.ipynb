{
 "cells": [
  {
   "cell_type": "code",
   "execution_count": 1,
   "metadata": {},
   "outputs": [],
   "source": [
    "from eigne import eigne\n",
    "import numpy as np\n",
    "import pandas as pd\n",
    "# from Principal_Component_Calculator.pca import standardize_data\n",
    "\n",
    "def mean(x): # based on np.mean(X, axis gi= 0)  \n",
    "    return sum(x)/len(x)  \n",
    "\n",
    "def std(x): # based on np.std(X, axis = 0)\n",
    "    return (sum((i - mean(x))**2 for i in x)/len(x))**0.5\n",
    "\n",
    "def standardize_data(X):\n",
    "    return (X - mean(X))/std(X)\n"
   ]
  },
  {
   "cell_type": "code",
   "execution_count": 2,
   "metadata": {},
   "outputs": [],
   "source": [
    "rawData = pd.read_csv('../../health_data.csv')\n",
    "numeric_cols = standardize_data(rawData.to_numpy())\n"
   ]
  },
  {
   "cell_type": "code",
   "execution_count": 3,
   "metadata": {},
   "outputs": [
    {
     "name": "stdout",
     "output_type": "stream",
     "text": [
      "np.linalg determinant: 0.0002130395404557041\n",
      "recursive determinant: 0.00021303954045568947\n"
     ]
    }
   ],
   "source": [
    "\n",
    "test_Data = np.cov(numeric_cols, rowvar=False )\n",
    "\n",
    "print('np.linalg determinant:', np.linalg.det(test_Data))\n",
    "\n",
    "res = eigne(test_Data)\n",
    "print('recursive determinant:', res)\n"
   ]
  }
 ],
 "metadata": {
  "kernelspec": {
   "display_name": "base",
   "language": "python",
   "name": "python3"
  },
  "language_info": {
   "codemirror_mode": {
    "name": "ipython",
    "version": 3
   },
   "file_extension": ".py",
   "mimetype": "text/x-python",
   "name": "python",
   "nbconvert_exporter": "python",
   "pygments_lexer": "ipython3",
   "version": "3.11.5"
  }
 },
 "nbformat": 4,
 "nbformat_minor": 2
}
