{
 "cells": [
  {
   "cell_type": "code",
   "execution_count": 1,
   "metadata": {},
   "outputs": [],
   "source": [
    "from eigne import eigne, manual_eigen\n",
    "import numpy as np\n",
    "import pandas as pd\n",
    "import seaborn as sns\n",
    "# from Principal_Component_Calculator.pca import standardize_data\n",
    "\n",
    "def mean(x): # based on np.mean(X, axis gi= 0)  \n",
    "    return sum(x)/len(x)  \n",
    "\n",
    "def std(x): # based on np.std(X, axis = 0)\n",
    "    return (sum((i - mean(x))**2 for i in x)/len(x))**0.5\n",
    "\n",
    "def standardize_data(X):\n",
    "    return (X - mean(X))/std(X)\n"
   ]
  },
  {
   "cell_type": "code",
   "execution_count": 2,
   "metadata": {},
   "outputs": [],
   "source": [
    "rawData = pd.read_csv('../../health_data.csv')\n",
    "\n",
    "test_data = standardize_data(rawData.to_numpy())\n",
    "simplified_data = standardize_data(rawData.drop(['AGE','SEX','BP','S1','S3','S4'], axis=1).to_numpy())\n",
    "\n"
   ]
  },
  {
   "cell_type": "code",
   "execution_count": null,
   "metadata": {},
   "outputs": [],
   "source": [
    "# TODO: reduce test data to only include bmi, s2, s5, and Y columns.\n",
    "\n",
    "test_Data = np.cov(simplified_data, rowvar=False)\n"
   ]
  },
  {
   "cell_type": "code",
   "execution_count": 4,
   "metadata": {},
   "outputs": [
    {
     "name": "stdout",
     "output_type": "stream",
     "text": [
      "manual [array([-0.3680913 , -0.17426908, -0.58297074, -0.88813224,  1.        ]), array([5.02242258, 2.43405789, 0.03471263, 0.38010324, 1.        ]), array([ 1.63582733, -1.5048332 ,  0.88318018,  3.67143154,  1.        ]), array([ 1.25024756, -0.47110375,  1.38664493,  2.20740205,  1.        ]), array([ 0.90378555, -0.11399818,  0.58192732, -0.16365557,  1.        ])]\n",
      "np [[ 4.76614019e-01  2.44469972e-01  4.59162048e-01  3.97288730e-01\n",
      "   5.86860621e-01]\n",
      " [ 3.10334542e-01 -8.61608545e-01 -1.75269303e-01  3.61391003e-01\n",
      "  -6.33773890e-04]\n",
      " [ 4.96595554e-01  3.26274989e-02  4.79834460e-01 -1.17186772e-01\n",
      "  -7.12989799e-01]\n",
      " [ 4.35406950e-01 -1.57619868e-01 -1.17380146e-01 -8.05996983e-01\n",
      "   3.49524720e-01]\n",
      " [ 4.90250132e-01  4.14676466e-01 -7.17238927e-01  2.19532075e-01\n",
      "  -1.58342120e-01]]\n"
     ]
    }
   ],
   "source": [
    "manual_values, manual_vectors = manual_eigen(test_Data)\n",
    "eigenvalues, eigenvectors = np.linalg.eig(test_Data)\n",
    "\n",
    "print('manual', manual_vectors)\n",
    "print('np', eigenvectors)"
   ]
  },
  {
   "cell_type": "code",
   "execution_count": 5,
   "metadata": {},
   "outputs": [
    {
     "ename": "AttributeError",
     "evalue": "module 'seaborn' has no attribute 'plo'",
     "output_type": "error",
     "traceback": [
      "\u001b[0;31m---------------------------------------------------------------------------\u001b[0m",
      "\u001b[0;31mAttributeError\u001b[0m                            Traceback (most recent call last)",
      "Cell \u001b[0;32mIn[5], line 1\u001b[0m\n\u001b[0;32m----> 1\u001b[0m sns\u001b[38;5;241m.\u001b[39mplo\n",
      "\u001b[0;31mAttributeError\u001b[0m: module 'seaborn' has no attribute 'plo'"
     ]
    }
   ],
   "source": [
    "sns.plo"
   ]
  }
 ],
 "metadata": {
  "kernelspec": {
   "display_name": "base",
   "language": "python",
   "name": "python3"
  },
  "language_info": {
   "codemirror_mode": {
    "name": "ipython",
    "version": 3
   },
   "file_extension": ".py",
   "mimetype": "text/x-python",
   "name": "python",
   "nbconvert_exporter": "python",
   "pygments_lexer": "ipython3",
   "version": "3.11.5"
  }
 },
 "nbformat": 4,
 "nbformat_minor": 2
}
