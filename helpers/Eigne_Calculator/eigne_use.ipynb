{
 "cells": [
  {
   "cell_type": "code",
   "execution_count": 1,
   "metadata": {},
   "outputs": [],
   "source": [
    "from eigne import eigne\n",
    "import numpy as np\n"
   ]
  },
  {
   "cell_type": "code",
   "execution_count": 26,
   "metadata": {},
   "outputs": [
    {
     "name": "stdout",
     "output_type": "stream",
     "text": [
      "np.linalg determinant: 4083.9999999999995\n",
      "recursive Determinant 4084\n"
     ]
    }
   ],
   "source": [
    "\n",
    "test_Data = np.random.randint(1, high=10, size=(5,5))\n",
    "res = eigne(test_Data)\n",
    "\n",
    "print('np.linalg determinant:', np.linalg.det(test_Data))\n",
    "print('recursive Determinant', res)\n"
   ]
  },
  {
   "cell_type": "code",
   "execution_count": 57,
   "metadata": {},
   "outputs": [
    {
     "name": "stdout",
     "output_type": "stream",
     "text": [
      "np.linalg determinant: -3.6359804056473766e-13\n",
      "recursive Determinant -2.2737367544323206e-13\n"
     ]
    }
   ],
   "source": [
    "test_Data = np.random.randint(1, high=10, size=(3,3))\n",
    "covMatrix = np.cov(test_Data)\n",
    "\n",
    "res = eigne(covMatrix)\n",
    "\n",
    "print('np.linalg determinant:', np.linalg.det(covMatrix))\n",
    "print('recursive Determinant', res)"
   ]
  },
  {
   "cell_type": "code",
   "execution_count": 3,
   "metadata": {},
   "outputs": [
    {
     "name": "stdout",
     "output_type": "stream",
     "text": [
      "0 is even\n",
      "1 is odd\n",
      "2 is even\n",
      "3 is odd\n",
      "4 is even\n",
      "5 is odd\n",
      "6 is even\n",
      "7 is odd\n",
      "8 is even\n",
      "9 is odd\n"
     ]
    }
   ],
   "source": [
    "for i in range(10):\n",
    "    if i%2:\n",
    "        print(i, 'is odd')\n",
    "    else:\n",
    "        print(i, 'is even')"
   ]
  }
 ],
 "metadata": {
  "kernelspec": {
   "display_name": "base",
   "language": "python",
   "name": "python3"
  },
  "language_info": {
   "codemirror_mode": {
    "name": "ipython",
    "version": 3
   },
   "file_extension": ".py",
   "mimetype": "text/x-python",
   "name": "python",
   "nbconvert_exporter": "python",
   "pygments_lexer": "ipython3",
   "version": "3.11.5"
  }
 },
 "nbformat": 4,
 "nbformat_minor": 2
}
