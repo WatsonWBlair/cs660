{
 "cells": [
  {
   "cell_type": "code",
   "execution_count": 3,
   "metadata": {},
   "outputs": [
    {
     "name": "stdout",
     "output_type": "stream",
     "text": [
      "[[7 8 3]\n",
      " [4 1 2]\n",
      " [6 8 6]]\n"
     ]
    }
   ],
   "source": [
    "import numpy as np\n",
    "import pandas as pd\n",
    "import matplotlib as plt\n",
    "import sympy as smp\n",
    "from sympy.solvers import solve\n",
    "from sympy import Symbol\n",
    "Matrix=np.random.randint(1,10,size=(3,3))\n",
    "print(Matrix)\n"
   ]
  },
  {
   "cell_type": "code",
   "execution_count": 4,
   "metadata": {},
   "outputs": [
    {
     "name": "stdout",
     "output_type": "stream",
     "text": [
      "[[122  42 124]\n",
      " [ 42  21  44]\n",
      " [124  44 136]]\n"
     ]
    }
   ],
   "source": [
    "def SVDSetupU(Matrix):\n",
    "    #Build array, and transpose of that array\n",
    "    Matrix=np.array(Matrix).copy()\n",
    "\n",
    "    Transpose=np.transpose(Matrix)\n",
    "    #Perform Matrix Multiplication to find AAt and AtA Matrices\n",
    "    MultipliedU=np.dot(Matrix, Transpose)\n",
    "\n",
    "    return MultipliedU\n",
    "print(SVDSetupU(Matrix))"
   ]
  },
  {
   "cell_type": "code",
   "execution_count": 5,
   "metadata": {},
   "outputs": [
    {
     "name": "stdout",
     "output_type": "stream",
     "text": [
      "[[101 108  65]\n",
      " [108 129  74]\n",
      " [ 65  74  49]]\n"
     ]
    }
   ],
   "source": [
    "def SVDSetupV(Matrix):\n",
    "    Matrix=np.array(Matrix).copy()\n",
    "\n",
    "    Transpose=np.transpose(Matrix)\n",
    "\n",
    "    MultipliedV=np.dot(Transpose, Matrix)\n",
    "    return MultipliedV\n",
    "print(SVDSetupV(Matrix))"
   ]
  },
  {
   "cell_type": "code",
   "execution_count": 13,
   "metadata": {},
   "outputs": [
    {
     "name": "stdout",
     "output_type": "stream",
     "text": [
      "[268.16673057   4.73665325   6.09661617]\n"
     ]
    }
   ],
   "source": [
    "MultipliedU=SVDSetupU(Matrix)\n",
    "def EigenvaluesU(MultipliedU):\n",
    "    values_U,_=np.linalg.eig(MultipliedU)\n",
    "    return values_U\n",
    "print(EigenvaluesU(MultipliedU))"
   ]
  },
  {
   "cell_type": "code",
   "execution_count": 15,
   "metadata": {},
   "outputs": [
    {
     "name": "stdout",
     "output_type": "stream",
     "text": [
      "[268.16673057   6.09661617   4.73665325]\n"
     ]
    }
   ],
   "source": [
    "MultipliedV=SVDSetupV(Matrix)\n",
    "def EigenvaluesV(MultipliedV):\n",
    "    values_V,_=np.linalg.eig(MultipliedV)\n",
    "    return values_V \n",
    "print(EigenvaluesV(MultipliedV))"
   ]
  },
  {
   "cell_type": "code",
   "execution_count": 16,
   "metadata": {},
   "outputs": [
    {
     "name": "stdout",
     "output_type": "stream",
     "text": [
      "[16.3757971   2.46913268  2.17638536]\n"
     ]
    }
   ],
   "source": [
    "values_U=EigenvaluesU(MultipliedU)\n",
    "def SingularValues(values_U):\n",
    "    Sing_Values=np.sqrt(values_U)\n",
    "    Sing_Values=np.sort(Sing_Values)[::-1]\n",
    "    return Sing_Values\n",
    "print(SingularValues(values_U))"
   ]
  },
  {
   "cell_type": "code",
   "execution_count": 17,
   "metadata": {},
   "outputs": [
    {
     "name": "stdout",
     "output_type": "stream",
     "text": [
      "[[16.3757971   0.          0.        ]\n",
      " [ 0.          2.46913268  0.        ]\n",
      " [ 0.          0.          2.17638536]]\n"
     ]
    }
   ],
   "source": [
    "Sing_Values=SingularValues(values_U)\n",
    "def CreateSVArray(Sing_Values, Matrix):\n",
    "    rows, columns=Matrix.shape\n",
    "    length=min(rows,columns)\n",
    "    padded_zero_values= np.pad(Sing_Values,(0,length-len(Sing_Values)),'constant')\n",
    "    SV_Array=np.zeros((rows,columns), dtype=float)\n",
    "    np.fill_diagonal(SV_Array, padded_zero_values)\n",
    "    return SV_Array\n",
    "print(CreateSVArray(Sing_Values,Matrix))"
   ]
  },
  {
   "cell_type": "code",
   "execution_count": 18,
   "metadata": {},
   "outputs": [
    {
     "name": "stdout",
     "output_type": "stream",
     "text": [
      "[[-6.67188363e-01 -7.44889025e-01  1.71451000e-04]\n",
      " [-2.38966901e-01  2.13821835e-01 -9.47193245e-01]\n",
      " [-7.05517192e-01  6.31997281e-01  3.20663262e-01]]\n"
     ]
    }
   ],
   "source": [
    "MultipliedU=SVDSetupU(Matrix)\n",
    "def EigenvectorsU(MultipliedU):\n",
    "    _,vectors_U=np.linalg.eig(MultipliedU)\n",
    "    return vectors_U\n",
    "print(EigenvectorsU(MultipliedU))"
   ]
  },
  {
   "cell_type": "code",
   "execution_count": 19,
   "metadata": {},
   "outputs": [
    {
     "name": "stdout",
     "output_type": "stream",
     "text": [
      "[[-0.6020647  -0.75475622 -0.26050173]\n",
      " [-0.68519482  0.65589204 -0.31672337]\n",
      " [-0.40990994  0.01219353  0.91204449]]\n"
     ]
    }
   ],
   "source": [
    "MultipliedV=SVDSetupV(Matrix)\n",
    "def EigenvectorsV(MultipliedV):\n",
    "    #Find Eigenvectors of AAt and AtA\n",
    "    _,vectors_V=np.linalg.eig(MultipliedV)\n",
    "    return vectors_V\n",
    "print(EigenvectorsV(MultipliedV))"
   ]
  },
  {
   "cell_type": "code",
   "execution_count": 20,
   "metadata": {},
   "outputs": [
    {
     "name": "stdout",
     "output_type": "stream",
     "text": [
      "[[-6.67188363e-01 -7.44889025e-01  1.71451000e-04]\n",
      " [-2.38966901e-01  2.13821835e-01 -9.47193245e-01]\n",
      " [-7.05517192e-01  6.31997281e-01  3.20663262e-01]]\n"
     ]
    }
   ],
   "source": [
    "vectors_U=EigenvectorsU(MultipliedU)\n",
    "def MatrixU(vectors_U):\n",
    "#Build matrix U, which consists of the Eigenvectors of AAt\n",
    "    matrix_U=np.array(vectors_U)\n",
    "    magnitude=np.linalg.norm(matrix_U, axis=0)\n",
    "    matrix_U=matrix_U/magnitude\n",
    "\n",
    "\n",
    "    return matrix_U\n",
    "print(MatrixU(vectors_U))"
   ]
  },
  {
   "cell_type": "code",
   "execution_count": 21,
   "metadata": {},
   "outputs": [
    {
     "name": "stdout",
     "output_type": "stream",
     "text": [
      "[[-0.6020647  -0.68519482 -0.40990994]\n",
      " [-0.75475622  0.65589204  0.01219353]\n",
      " [-0.26050173 -0.31672337  0.91204449]]\n"
     ]
    }
   ],
   "source": [
    "vectors_V=EigenvectorsV(MultipliedV)\n",
    "def MatrixV(vectors_V):\n",
    "#Build Matrix V, which consists of the Eigenvectors of AtA\n",
    "    matrix_V=np.array(vectors_V.T)\n",
    "    return matrix_V\n",
    "print(MatrixV(vectors_V))"
   ]
  },
  {
   "cell_type": "code",
   "execution_count": 22,
   "metadata": {},
   "outputs": [
    {
     "name": "stdout",
     "output_type": "stream",
     "text": [
      "[[7.83808088 7.03993953 3.42904184]\n",
      " [2.83930407 3.27471221 1.027942  ]\n",
      " [5.60059102 9.75202482 3.15194402]]\n",
      "SVDResult(U=array([[-6.67188363e-01,  1.71451000e-04, -7.44889025e-01],\n",
      "       [-2.38966901e-01, -9.47193245e-01,  2.13821835e-01],\n",
      "       [-7.05517192e-01,  3.20663262e-01,  6.31997281e-01]]), S=array([16.3757971 ,  2.46913268,  2.17638536]), Vh=array([[-0.6020647 , -0.68519482, -0.40990994],\n",
      "       [-0.75475622,  0.65589204,  0.01219353],\n",
      "       [-0.26050173, -0.31672337,  0.91204449]]))\n"
     ]
    }
   ],
   "source": [
    "matrix_U=MatrixU(vectors_U)\n",
    "SV_Array=CreateSVArray(Sing_Values,Matrix)\n",
    "matrix_V=MatrixV(vectors_V)\n",
    "def SVDBuild(matrix_U,SV_Array,matrix_V):\n",
    "#Perform Singular Value Decomposition, the dot product of Matrices U and A, and the Singular Values Array\n",
    "    SVD=np.dot(matrix_U, np.dot(SV_Array, matrix_V.T))\n",
    "    SVD=np.abs(SVD)\n",
    "\n",
    "    return SVD\n",
    "print(SVDBuild(matrix_U,SV_Array,matrix_V))\n",
    "check=np.linalg.svd(Matrix)\n",
    "print(check)"
   ]
  }
 ],
 "metadata": {
  "kernelspec": {
   "display_name": "Python 3",
   "language": "python",
   "name": "python3"
  },
  "language_info": {
   "codemirror_mode": {
    "name": "ipython",
    "version": 3
   },
   "file_extension": ".py",
   "mimetype": "text/x-python",
   "name": "python",
   "nbconvert_exporter": "python",
   "pygments_lexer": "ipython3",
   "version": "3.9.6"
  }
 },
 "nbformat": 4,
 "nbformat_minor": 2
}
