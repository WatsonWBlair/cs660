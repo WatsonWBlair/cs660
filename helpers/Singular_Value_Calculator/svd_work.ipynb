{
 "cells": [
  {
   "cell_type": "code",
   "execution_count": 1,
   "metadata": {},
   "outputs": [
    {
     "name": "stdout",
     "output_type": "stream",
     "text": [
      "[[7 3 2]\n",
      " [4 4 1]\n",
      " [1 4 3]]\n"
     ]
    }
   ],
   "source": [
    "import numpy as np\n",
    "import pandas as pd\n",
    "import matplotlib as plt\n",
    "import sympy as smp\n",
    "from sympy.solvers import solve\n",
    "from sympy import Symbol\n",
    "import scipy as sp\n",
    "Matrix=np.random.randint(1,10,size=(3,3))\n",
    "print(Matrix)"
   ]
  },
  {
   "cell_type": "code",
   "execution_count": 2,
   "metadata": {},
   "outputs": [
    {
     "name": "stdout",
     "output_type": "stream",
     "text": [
      "[[62 42 25]\n",
      " [42 33 23]\n",
      " [25 23 26]]\n"
     ]
    }
   ],
   "source": [
    "def SVDSetupU(Matrix):\n",
    "    Matrix=np.array(Matrix).copy()\n",
    "    Transpose=np.transpose(Matrix)\n",
    "    MultipliedU=np.dot(Matrix, Transpose)\n",
    "    return MultipliedU\n",
    "print(SVDSetupU(Matrix))"
   ]
  },
  {
   "cell_type": "code",
   "execution_count": 3,
   "metadata": {},
   "outputs": [
    {
     "name": "stdout",
     "output_type": "stream",
     "text": [
      "[[66 41 21]\n",
      " [41 41 22]\n",
      " [21 22 14]]\n"
     ]
    }
   ],
   "source": [
    "def SVDSetupV(Matrix):\n",
    "    Matrix=np.array(Matrix).copy()\n",
    "    Transpose=np.transpose(Matrix)\n",
    "    MultipliedV=np.dot(Transpose, Matrix)\n",
    "    return MultipliedV\n",
    "print(SVDSetupV(Matrix))"
   ]
  },
  {
   "cell_type": "code",
   "execution_count": 4,
   "metadata": {},
   "outputs": [
    {
     "name": "stdout",
     "output_type": "stream",
     "text": [
      "[106.1405743   13.29389316   1.56553254]\n"
     ]
    }
   ],
   "source": [
    "MultipliedU=SVDSetupU(Matrix)\n",
    "\n",
    "def EigenvaluesU(MultipliedU):\n",
    "    values_U,_=np.linalg.eig(MultipliedU)\n",
    "    return values_U\n",
    "    return vectors_U\n",
    "print(EigenvaluesU(MultipliedU))"
   ]
  },
  {
   "cell_type": "code",
   "execution_count": 6,
   "metadata": {},
   "outputs": [
    {
     "name": "stdout",
     "output_type": "stream",
     "text": [
      "[106.1405743   13.29389316   1.56553254]\n"
     ]
    }
   ],
   "source": [
    "MultipliedV=SVDSetupV(Matrix)\n",
    "def EigenvaluesV(MultipliedV):\n",
    "    values_V,_=np.linalg.eig(MultipliedV)\n",
    "    return values_V \n",
    "print(EigenvaluesV(MultipliedV))"
   ]
  },
  {
   "cell_type": "code",
   "execution_count": 8,
   "metadata": {},
   "outputs": [
    {
     "name": "stdout",
     "output_type": "stream",
     "text": [
      "[10.30245477  3.64607915  1.25121243]\n"
     ]
    }
   ],
   "source": [
    "values_U=EigenvaluesU(MultipliedU)\n",
    "def SingularValues(values_U):\n",
    "    Sing_Values=np.sqrt(values_U)\n",
    "    Sing_Values=np.sort(Sing_Values)[::-1]\n",
    "    return Sing_Values\n",
    "print(SingularValues(values_U))"
   ]
  },
  {
   "cell_type": "code",
   "execution_count": 9,
   "metadata": {},
   "outputs": [
    {
     "name": "stdout",
     "output_type": "stream",
     "text": [
      "[[10.30245477  0.          0.        ]\n",
      " [ 0.          3.64607915  0.        ]\n",
      " [ 0.          0.          1.25121243]]\n"
     ]
    }
   ],
   "source": [
    "Sing_Values=SingularValues(values_U)\n",
    "def CreateSVArray(Sing_Values, Matrix):\n",
    "    rows, columns=Matrix.shape\n",
    "    length=min(rows,columns)\n",
    "    padded_zero_values= np.pad(Sing_Values,(0,length-len(Sing_Values)),'constant')\n",
    "    SV_Array=np.zeros((rows,columns), dtype=float)\n",
    "    np.fill_diagonal(SV_Array, padded_zero_values)\n",
    "    return SV_Array\n",
    "print(CreateSVArray(Sing_Values,Matrix))"
   ]
  },
  {
   "cell_type": "code",
   "execution_count": 10,
   "metadata": {},
   "outputs": [
    {
     "name": "stdout",
     "output_type": "stream",
     "text": [
      "[[-0.74108725 -0.5058225   0.4415125 ]\n",
      " [-0.54768658  0.07505948 -0.83330996]\n",
      " [-0.38836723  0.85936586  0.33265781]]\n"
     ]
    }
   ],
   "source": [
    "MultipliedU=SVDSetupU(Matrix)\n",
    "def EigenvectorsU(MultipliedU):\n",
    "    _,vectors_U=np.linalg.eig(MultipliedU)\n",
    "    return vectors_U\n",
    "print(EigenvectorsU(MultipliedU))"
   ]
  },
  {
   "cell_type": "code",
   "execution_count": 11,
   "metadata": {},
   "outputs": [
    {
     "name": "stdout",
     "output_type": "stream",
     "text": [
      "[[ 0.75387123  0.65307241  0.07193462]\n",
      " [ 0.57922865 -0.60893737 -0.54193122]\n",
      " [ 0.31011665 -0.45021295  0.83733862]]\n"
     ]
    }
   ],
   "source": [
    "MultipliedV=SVDSetupV(Matrix)\n",
    "def EigenvectorsV(MultipliedV):\n",
    "    _,vectors_V=np.linalg.eig(MultipliedV)\n",
    "    return vectors_V\n",
    "print(EigenvectorsV(MultipliedV))"
   ]
  },
  {
   "cell_type": "code",
   "execution_count": 12,
   "metadata": {},
   "outputs": [
    {
     "name": "stdout",
     "output_type": "stream",
     "text": [
      "[[-0.74108725 -0.5058225   0.4415125 ]\n",
      " [-0.54768658  0.07505948 -0.83330996]\n",
      " [-0.38836723  0.85936586  0.33265781]]\n"
     ]
    }
   ],
   "source": [
    "vectors_U=EigenvectorsU(MultipliedU)\n",
    "def MatrixU(vectors_U):\n",
    "    matrix_U=np.array(vectors_U)\n",
    "    magnitude=np.linalg.norm(matrix_U, axis=0)\n",
    "    matrix_U=matrix_U/magnitude\n",
    "    return matrix_U\n",
    "print(MatrixU(vectors_U))"
   ]
  },
  {
   "cell_type": "code",
   "execution_count": 13,
   "metadata": {},
   "outputs": [
    {
     "name": "stdout",
     "output_type": "stream",
     "text": [
      "[[ 0.75387123  0.57922865  0.31011665]\n",
      " [ 0.65307241 -0.60893737 -0.45021295]\n",
      " [ 0.07193462 -0.54193122  0.83733862]]\n"
     ]
    }
   ],
   "source": [
    "vectors_V=EigenvectorsV(MultipliedV)\n",
    "def MatrixV(vectors_V):\n",
    "    matrix_V=np.array(vectors_V.T)\n",
    "    return matrix_V\n",
    "print(MatrixV(vectors_V))"
   ]
  },
  {
   "cell_type": "code",
   "execution_count": 14,
   "metadata": {},
   "outputs": [
    {
     "name": "stdout",
     "output_type": "stream",
     "text": [
      "[[6.65275722 4.11188461 0.91281231]\n",
      " [4.41855394 3.3822077  1.42725336]\n",
      " [1.07235632 4.70841471 1.63734017]]\n",
      "SVDResult(U=array([[-0.74108725,  0.5058225 ,  0.4415125 ],\n",
      "       [-0.54768658, -0.07505948, -0.83330996],\n",
      "       [-0.38836723, -0.85936586,  0.33265781]]), S=array([10.30245477,  3.64607915,  1.25121243]), Vh=array([[-0.75387123, -0.57922865, -0.31011665],\n",
      "       [ 0.65307241, -0.60893737, -0.45021295],\n",
      "       [ 0.07193462, -0.54193122,  0.83733862]]))\n"
     ]
    }
   ],
   "source": [
    "matrix_U=MatrixU(vectors_U)\n",
    "SV_Array=CreateSVArray(Sing_Values,Matrix)\n",
    "matrix_V=MatrixV(vectors_V)\n",
    "def SVDBuild(matrix_U,SV_Array,matrix_V):\n",
    "#Perform Singular Value Decomposition, the dot product of Matrices U and A, and the Singular Values Array\n",
    "    SVD=np.dot(matrix_U, np.dot(SV_Array, matrix_V.T))\n",
    "    SVD=np.abs(SVD)\n",
    "\n",
    "    return SVD\n",
    "print(SVDBuild(matrix_U,SV_Array,matrix_V))\n",
    "check=np.linalg.svd(Matrix)\n",
    "print(check)"
   ]
  }
 ],
 "metadata": {
  "kernelspec": {
   "display_name": "Python 3",
   "language": "python",
   "name": "python3"
  },
  "language_info": {
   "codemirror_mode": {
    "name": "ipython",
    "version": 3
   },
   "file_extension": ".py",
   "mimetype": "text/x-python",
   "name": "python",
   "nbconvert_exporter": "python",
   "pygments_lexer": "ipython3",
   "version": "3.9.6"
  }
 },
 "nbformat": 4,
 "nbformat_minor": 2
}
