{
 "cells": [
  {
   "cell_type": "code",
   "execution_count": 32,
   "metadata": {},
   "outputs": [],
   "source": [
    "import numpy as np\n",
    "from helpers.Eigne_Calculator.eigne import manual_eigen\n",
    "from helpers.Singular_Value_Calculator.svd import SVDSetupU, SVDSetupV, EigenvaluesU, EigenvaluesV, EigenvectorsU, EigenvectorsV,SingularValues, CreateSVArray,MatrixU,MatrixV,SVDBuild\n",
    "\n",
    "Matrix=np.random.rand(5,5)\n"
   ]
  },
  {
   "cell_type": "code",
   "execution_count": 4,
   "metadata": {},
   "outputs": [
    {
     "name": "stdout",
     "output_type": "stream",
     "text": [
      "[[1.76147607 1.94930445 1.17270286 1.10625533 0.91254134]\n",
      " [1.94930445 3.26050657 2.20255963 2.2321271  2.11797521]\n",
      " [1.17270286 2.20255963 1.77944079 1.48395484 1.8157999 ]\n",
      " [1.10625533 2.2321271  1.48395484 1.9998631  1.14435066]\n",
      " [0.91254134 2.11797521 1.8157999  1.14435066 2.35004731]]\n",
      "[[2.33406443 1.04155267 2.30286078 1.8859789  1.45858154]\n",
      " [1.04155267 1.3197058  1.88121457 0.87406174 1.47186355]\n",
      " [2.30286078 1.88121457 3.2614494  1.6757748  2.11011289]\n",
      " [1.8859789  0.87406174 1.6757748  2.05365764 1.53781544]\n",
      " [1.45858154 1.47186355 2.11011289 1.53781544 2.18245659]]\n"
     ]
    }
   ],
   "source": [
    "MultipliedU=SVDSetupU(Matrix)\n",
    "MultipliedV=SVDSetupV(Matrix)\n",
    "print(MultipliedU)\n",
    "print(MultipliedV)"
   ]
  },
  {
   "cell_type": "code",
   "execution_count": 19,
   "metadata": {},
   "outputs": [
    {
     "name": "stdout",
     "output_type": "stream",
     "text": [
      "[8.99558516 1.27902066 0.75799505 0.10339384 0.01533915] [8.99558516 1.27902066 0.75799505 0.10339384 0.01533915]\n"
     ]
    }
   ],
   "source": [
    "valuesU=EigenvaluesU(MultipliedU)\n",
    "valuesV=EigenvaluesV(MultipliedV)\n",
    "print(valuesU,valuesV)"
   ]
  },
  {
   "cell_type": "code",
   "execution_count": 10,
   "metadata": {},
   "outputs": [
    {
     "name": "stdout",
     "output_type": "stream",
     "text": [
      "[[-0.12614426 -0.45373341 -0.53481601 -0.95492474  1.        ]\n",
      " [ 1.89145218  0.26618955 -0.2164977   0.4403245   1.        ]\n",
      " [ 0.90937578 -0.26892477 -2.11584117  4.32163848  1.        ]\n",
      " [ 0.55035952  1.20766468  2.81536517  0.17145627  1.        ]\n",
      " [ 0.52260583  1.02825011  1.23661162 -1.08988115  1.        ]] [[-0.21895624 -0.22626268 -0.73111722 -0.91728886  1.        ]\n",
      " [ 1.38248438 -0.03233586  0.37608187  2.12490786  1.        ]\n",
      " [ 0.92545515 -4.01213902  8.9540837  -0.60862494  1.        ]\n",
      " [ 0.65387581  1.08333166  2.46232696  0.96741934  1.        ]\n",
      " [ 0.62904457  0.97629543 -1.62263462 -4.70770243  1.        ]]\n"
     ]
    }
   ],
   "source": [
    "vectorsU=EigenvectorsU(MultipliedU)\n",
    "vectorsV=EigenvectorsV(MultipliedV)\n",
    "print(vectorsU,vectorsV)"
   ]
  },
  {
   "cell_type": "code",
   "execution_count": 23,
   "metadata": {},
   "outputs": [
    {
     "name": "stdout",
     "output_type": "stream",
     "text": [
      "[2.9992641  1.13093796 0.87062911 0.32154913 0.12385132]\n"
     ]
    }
   ],
   "source": [
    "Sing_Values=SingularValues(valuesV)\n",
    "print(Sing_Values)"
   ]
  },
  {
   "cell_type": "code",
   "execution_count": 26,
   "metadata": {},
   "outputs": [
    {
     "name": "stdout",
     "output_type": "stream",
     "text": [
      "[[2.9992641  0.         0.         0.         0.        ]\n",
      " [0.         1.13093796 0.         0.         0.        ]\n",
      " [0.         0.         0.87062911 0.         0.        ]\n",
      " [0.         0.         0.         0.32154913 0.        ]\n",
      " [0.         0.         0.         0.         0.12385132]]\n"
     ]
    }
   ],
   "source": [
    "SV_Array=CreateSVArray(Sing_Values,Matrix)\n",
    "print(SV_Array)"
   ]
  },
  {
   "cell_type": "code",
   "execution_count": 30,
   "metadata": {},
   "outputs": [
    {
     "name": "stdout",
     "output_type": "stream",
     "text": [
      "[[-0.12614426 -0.45373341 -0.53481601 -0.95492474  1.        ]\n",
      " [ 1.89145218  0.26618955 -0.2164977   0.4403245   1.        ]\n",
      " [ 0.90937578 -0.26892477 -2.11584117  4.32163848  1.        ]\n",
      " [ 0.55035952  1.20766468  2.81536517  0.17145627  1.        ]\n",
      " [ 0.52260583  1.02825011  1.23661162 -1.08988115  1.        ]]\n",
      "[[-0.21895624 -0.22626268 -0.73111722 -0.91728886  1.        ]\n",
      " [ 1.38248438 -0.03233586  0.37608187  2.12490786  1.        ]\n",
      " [ 0.92545515 -4.01213902  8.9540837  -0.60862494  1.        ]\n",
      " [ 0.65387581  1.08333166  2.46232696  0.96741934  1.        ]\n",
      " [ 0.62904457  0.97629543 -1.62263462 -4.70770243  1.        ]]\n"
     ]
    }
   ],
   "source": [
    "matrix_U=MatrixU(vectorsU)\n",
    "matrix_V=MatrixV(vectorsV)\n",
    "print(matrix_U)\n",
    "print(matrix_V)"
   ]
  },
  {
   "cell_type": "code",
   "execution_count": 35,
   "metadata": {},
   "outputs": [
    {
     "name": "stdout",
     "output_type": "stream",
     "text": [
      "[[  0.94488243  -1.21018247  -2.14985511  -2.12301709   1.58594424]\n",
      " [ -1.1784622    8.18687155   2.39217503   3.83224695   3.62561117]\n",
      " [ -0.33240937   6.16438136 -13.47195765  -1.61375119  -2.01022069]\n",
      " [ -2.38924357   3.40069611  18.08586908   8.77163524  -1.74122918]\n",
      " [ -0.94814444   1.91342629   6.76230415   4.720533     2.14799647]]\n"
     ]
    }
   ],
   "source": [
    "SVD=SVDBuild(matrix_U,SV_Array,matrix_V)\n",
    "print(SVD)"
   ]
  }
 ],
 "metadata": {
  "kernelspec": {
   "display_name": "base",
   "language": "python",
   "name": "python3"
  },
  "language_info": {
   "codemirror_mode": {
    "name": "ipython",
    "version": 3
   },
   "file_extension": ".py",
   "mimetype": "text/x-python",
   "name": "python",
   "nbconvert_exporter": "python",
   "pygments_lexer": "ipython3",
   "version": "3.9.6"
  }
 },
 "nbformat": 4,
 "nbformat_minor": 2
}
